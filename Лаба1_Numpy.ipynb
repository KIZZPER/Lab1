{
 "nbformat": 4,
 "nbformat_minor": 0,
 "metadata": {
  "colab": {
   "provenance": [],
   "authorship_tag": "ABX9TyPpEaPOq6PdWq7lFnoAeG1G"
  },
  "kernelspec": {
   "name": "python3",
   "display_name": "Python 3 (ipykernel)",
   "language": "python"
  },
  "language_info": {
   "name": "python"
  }
 },
 "cells": [
  {
   "cell_type": "code",
   "source": [
    "import numpy as np\n",
    "import matplotlib.pyplot as plt\n"
   ],
   "metadata": {
    "id": "icenhX1nzKXD",
    "executionInfo": {
     "status": "ok",
     "timestamp": 1757874279420,
     "user_tz": -300,
     "elapsed": 9,
     "user": {
      "displayName": "KIZZPER",
      "userId": "04243679175289993491"
     }
    },
    "ExecuteTime": {
     "end_time": "2025-09-29T10:09:40.304473Z",
     "start_time": "2025-09-29T10:09:40.032929Z"
    }
   },
   "outputs": [],
   "execution_count": 1
  },
  {
   "cell_type": "markdown",
   "source": [
    "Задача 1"
   ],
   "metadata": {
    "id": "lsYgz9dxqf-S"
   }
  },
  {
   "cell_type": "code",
   "source": [
    "# Функция\n",
    "\n",
    "def sum_prod(X, V):\n",
    "\n",
    "    products = []\n",
    "    for i in range(len(X)):\n",
    "        product = np.dot(X[i], V[i])\n",
    "        products.append(product)\n",
    "\n",
    "    result = np.sum(products, axis=0)\n",
    "\n",
    "    if result.ndim == 1:\n",
    "        result = result.reshape(-1, 1)\n",
    "\n",
    "    return result\n",
    "\n",
    "# Тесты\n",
    "\n",
    "#1 Базовый случай\n",
    "\n",
    "X_test1 = [\n",
    "    np.array([[1, 2], [3, 4]]),\n",
    "    np.array([[2, 0], [1, 3]])\n",
    "]\n",
    "V_test1 = [\n",
    "    np.array([[1], [2]]),\n",
    "    np.array([[3], [1]])\n",
    "]\n",
    "expected1 = np.array([[11], [17]])\n",
    "assert np.array_equal(sum_prod(X_test1, V_test1), expected1)\n",
    "\n",
    "#2 Нулевые матрицы\n",
    "\n",
    "X_test2 = [\n",
    "    np.zeros((2, 2)),\n",
    "    np.zeros((2, 2))\n",
    "]\n",
    "V_test2 = [\n",
    "    np.array([[1], [2]]),\n",
    "    np.array([[3], [4]])\n",
    "]\n",
    "expected2 = np.zeros((2, 1))\n",
    "assert np.array_equal(sum_prod(X_test2, V_test2), expected2)\n",
    "\n",
    "#3 Одна матрица и вектор 3x3\n",
    "\n",
    "X_test3 = [np.array([[1, 0, 2], [0, 1, 0], [2, 0, 1]])]\n",
    "V_test3 = [np.array([[1], [2], [3]])]\n",
    "expected3 = np.array([[7], [2], [5]])\n",
    "assert np.array_equal(sum_prod(X_test3, V_test3), expected3)"
   ],
   "metadata": {
    "id": "nw6Kz68Bqklu",
    "executionInfo": {
     "status": "ok",
     "timestamp": 1757874858641,
     "user_tz": -300,
     "elapsed": 7,
     "user": {
      "displayName": "KIZZPER",
      "userId": "04243679175289993491"
     }
    }
   },
   "execution_count": 9,
   "outputs": []
  },
  {
   "cell_type": "markdown",
   "source": [
    "Задача 2"
   ],
   "metadata": {
    "id": "5yESZ8nKrPOi"
   }
  },
  {
   "cell_type": "code",
   "source": [
    "# Функция\n",
    "\n",
    "def binarize(M, threshold=0.5):\n",
    "    M_array = np.array(M)\n",
    "    binary_matrix = (M_array > threshold).astype(int)\n",
    "    return binary_matrix\n",
    "\n",
    "# Тесты\n",
    "\n",
    "#1 Базовый случай\n",
    "\n",
    "M1 = np.array([\n",
    "    [0.1, 0.7, 0.3],\n",
    "    [0.9, 0.5, 0.8],\n",
    "    [0.2, 0.6, 0.4]\n",
    "])\n",
    "expected1 = np.array([\n",
    "    [0, 1, 0],\n",
    "    [1, 0, 1],\n",
    "    [0, 1, 0]\n",
    "])\n",
    "assert np.array_equal(binarize(M1, 0.5), expected1)\n",
    "\n",
    "#2 Граничные значения\n",
    "\n",
    "M2 = np.array([\n",
    "    [0.5, 0.50001, 0.49999],\n",
    "    [0.0, 1.0, 0.5]\n",
    "])\n",
    "expected2 = np.array([\n",
    "    [0, 1, 0],\n",
    "    [0, 1, 0]\n",
    "])\n",
    "assert np.array_equal(binarize(M2, 0.5), expected2)\n",
    "\n",
    "#3 Одномерный массив\n",
    "\n",
    "M3 = np.array([0.1, 0.6, 0.3, 0.8, 0.4])\n",
    "expected4 = np.array([0, 1, 0, 1, 0])\n",
    "assert np.array_equal(binarize(M3, 0.5), expected4)"
   ],
   "metadata": {
    "collapsed": true,
    "id": "re0_HYr5rR2c",
    "executionInfo": {
     "status": "ok",
     "timestamp": 1757875088322,
     "user_tz": -300,
     "elapsed": 7,
     "user": {
      "displayName": "KIZZPER",
      "userId": "04243679175289993491"
     }
    }
   },
   "execution_count": 11,
   "outputs": []
  },
  {
   "cell_type": "markdown",
   "source": [
    "Задача 3"
   ],
   "metadata": {
    "id": "cw1dvhpYrR7E"
   }
  },
  {
   "cell_type": "code",
   "source": [
    "# Функции\n",
    "\n",
    "def unique_rows(mat):\n",
    "\n",
    "    mat_array = np.array(mat)\n",
    "\n",
    "    # Если матрица пустая или одномерная\n",
    "    if mat_array.size == 0:\n",
    "        return []\n",
    "    if mat_array.ndim == 1:\n",
    "        return [np.unique(mat_array)]\n",
    "\n",
    "    unique_elements_per_row = []\n",
    "    for row in mat_array:\n",
    "        unique_elements = np.unique(row)\n",
    "        unique_elements_per_row.append(unique_elements)\n",
    "\n",
    "    return unique_elements_per_row\n",
    "\n",
    "def unique_columns(mat):\n",
    "\n",
    "    mat_array = np.array(mat)\n",
    "\n",
    "    # Если матрица пустая\n",
    "    if mat_array.size == 0:\n",
    "        return []\n",
    "    # Если одномерный массив, то рассматриваем как один столбец\n",
    "    if mat_array.ndim == 1:\n",
    "        return [np.unique(mat_array)]\n",
    "\n",
    "    unique_elements_per_column = []\n",
    "    for col_idx in range(mat_array.shape[1]):\n",
    "        column = mat_array[:, col_idx]\n",
    "        unique_elements = np.unique(column)\n",
    "        unique_elements_per_column.append(unique_elements)\n",
    "\n",
    "    return unique_elements_per_column\n",
    "\n",
    "# Тесты\n",
    "\n",
    "#1 Базовый случай\n",
    "\n",
    "mat1 = [\n",
    "    [1, 2, 2, 3, 1],\n",
    "    [4, 4, 5, 6, 5],\n",
    "    [7, 8, 7, 8, 9]\n",
    "]\n",
    "expected_rows1 = [np.array([1, 2, 3]), np.array([4, 5, 6]), np.array([7, 8, 9])]\n",
    "expected_cols1 = [np.array([1, 4, 7]), np.array([2, 4, 8]), np.array([2, 5, 7]), np.array([3, 6, 8]), np.array([1, 5, 9])]\n",
    "\n",
    "for i, (res, exp) in enumerate(zip(unique_rows(mat1), expected_rows1)):\n",
    "    assert np.array_equal(res, exp)\n",
    "\n",
    "for i, (res, exp) in enumerate(zip(unique_columns(mat1), expected_cols1)):\n",
    "    assert np.array_equal(res, exp)\n",
    "\n",
    "#2 Вектор\n",
    "\n",
    "vec = [1, 2, 2, 3, 1, 4]\n",
    "expected_unique = np.array([1, 2, 3, 4])\n",
    "res_rows2 = unique_rows(vec)[0]\n",
    "res_cols2 = unique_columns(vec)[0]\n",
    "assert np.array_equal(res_rows2, expected_unique)\n",
    "assert np.array_equal(res_cols2, expected_unique)\n",
    "\n",
    "#3 Пустой массив\n",
    "\n",
    "mat2 = []\n",
    "assert unique_rows(mat2) == []\n",
    "assert unique_columns(mat2) == []"
   ],
   "metadata": {
    "id": "tkqD29mzrUFM",
    "executionInfo": {
     "status": "ok",
     "timestamp": 1757875783523,
     "user_tz": -300,
     "elapsed": 9,
     "user": {
      "displayName": "KIZZPER",
      "userId": "04243679175289993491"
     }
    },
    "collapsed": true
   },
   "execution_count": 19,
   "outputs": []
  },
  {
   "cell_type": "markdown",
   "source": [
    "Задача 4"
   ],
   "metadata": {
    "id": "AofvMfWPrULz"
   }
  },
  {
   "cell_type": "code",
   "source": [
    "import numpy as np\n",
    "import matplotlib.pyplot as plt\n",
    "\n",
    "def filling_random_matrix(m, n, mean, std):\n",
    "\n",
    "    matrix = np.random.normal(mean, std, size=(m, n))\n",
    "\n",
    "    # Статистика для строк\n",
    "    row_means = np.mean(matrix, axis=1)\n",
    "    row_vars = np.var(matrix, axis=1, ddof=1)\n",
    "\n",
    "    # Статистика для столбцов\n",
    "    col_means = np.mean(matrix, axis=0)\n",
    "    col_vars = np.var(matrix, axis=0, ddof=1)\n",
    "\n",
    "    # Гистограмма для строк\n",
    "    fig_rows, axes_rows = plt.subplots(1, m, figsize=(4*m, 4))\n",
    "    if m == 1:\n",
    "        axes_rows = [axes_rows]\n",
    "\n",
    "    for i in range(m):\n",
    "        axes_rows[i].hist(matrix[i, :], bins=min(10, n//2) if n > 4 else n,\n",
    "                         alpha=0.7, color=f'C{i}', edgecolor='black')\n",
    "        axes_rows[i].set_title(f'Строка {i+1}\\nμ={row_means[i]:.3f}, σ²={row_vars[i]:.3f}')  # ←\n",
    "        axes_rows[i].set_xlabel('Значение')\n",
    "        axes_rows[i].set_ylabel('Частота')\n",
    "        axes_rows[i].grid(True, alpha=0.3)\n",
    "\n",
    "    plt.tight_layout()\n",
    "    plt.show()\n",
    "\n",
    "    # Гистограмма для столбцов\n",
    "    fig_cols, axes_cols = plt.subplots(1, n, figsize=(4*n, 4))\n",
    "    if n == 1:\n",
    "        axes_cols = [axes_cols]\n",
    "\n",
    "    for j in range(n):\n",
    "        axes_cols[j].hist(matrix[:, j], bins=min(10, m//2) if m > 4 else m,\n",
    "                         alpha=0.7, color=f'C{j}', edgecolor='black')\n",
    "        axes_cols[j].set_title(f'Столбец {j+1}\\nμ={col_means[j]:.3f}, σ²={col_vars[j]:.3f}')  # ←\n",
    "        axes_cols[j].set_xlabel('Значение')\n",
    "        axes_cols[j].set_ylabel('Частота')\n",
    "        axes_cols[j].grid(True, alpha=0.3)\n",
    "\n",
    "    plt.tight_layout()\n",
    "    plt.show()\n",
    "\n",
    "    return {\n",
    "        'matrix': matrix,\n",
    "        'row_means': row_means,\n",
    "        'row_variances': row_vars,\n",
    "        'col_means': col_means,\n",
    "        'col_variances': col_vars,\n",
    "        'overall_mean': np.mean(matrix),\n",
    "        'overall_variance': np.var(matrix, ddof=1)\n",
    "    }\n",
    "\n",
    "print (filling_random_matrix(3, 4, 5, 2))"
   ],
   "metadata": {
    "colab": {
     "base_uri": "https://localhost:8080/",
     "height": 543
    },
    "id": "mRKSeX8yrUW-",
    "executionInfo": {
     "status": "ok",
     "timestamp": 1757764718990,
     "user_tz": -300,
     "elapsed": 1034,
     "user": {
      "displayName": "KIZZPER",
      "userId": "04243679175289993491"
     }
    },
    "outputId": "d9fe9b0d-fda8-45e5-fd8a-0bf3bfbee314"
   },
   "execution_count": null,
   "outputs": [
    {
     "output_type": "display_data",
     "data": {
      "text/plain": [
       "<Figure size 1200x400 with 3 Axes>"
      ],
      "image/png": "[encoded data removed]"
     },
     "metadata": {}
    },
    {
     "output_type": "display_data",
     "data": {
      "text/plain": [
       "<Figure size 1600x400 with 4 Axes>"
      ],
      "image/png": "[encoded data removed]"
     },
     "metadata": {}
    },
    {
     "output_type": "stream",
     "name": "stdout",
     "text": [
      "{'matrix': array([[2.53988373, 6.10107499, 6.58561373, 3.75293854],\n",
      "       [6.04115267, 2.71131722, 6.60372206, 5.0931346 ],\n",
      "       [4.62686046, 4.79650825, 6.73777231, 6.50082328]]), 'row_means': array([4.74487775, 5.11233164, 5.66549108]), 'row_variances': array([3.69117398, 2.95073089, 1.22715055]), 'col_means': array([4.40263229, 4.53630016, 6.64236937, 5.11563214]), 'col_variances': array([3.10242976, 2.92339563, 0.00690827, 1.88809724]), 'overall_mean': np.float64(5.174233487788151), 'overall_variance': np.float64(2.3022922822505056)}\n"
     ]
    }
   ]
  },
  {
   "cell_type": "markdown",
   "source": [
    "Задача 5"
   ],
   "metadata": {
    "id": "TXpNpfVRrVS6"
   }
  },
  {
   "cell_type": "code",
   "source": [
    "# Функция\n",
    "\n",
    "def chess(m, n, a, b):\n",
    "\n",
    "    # Определения типа данных\n",
    "    if isinstance(a, str) or isinstance(b, str):\n",
    "        dtype = object\n",
    "    else:\n",
    "        dtype = type(a) if type(a) == type(b) else float\n",
    "\n",
    "    matrix = np.empty((m, n), dtype=dtype)\n",
    "\n",
    "    for i in range(m):\n",
    "        for j in range(n):\n",
    "            if (i + j) % 2 == 0:\n",
    "                matrix[i, j] = a\n",
    "            else:\n",
    "                matrix[i, j] = b\n",
    "\n",
    "    return matrix\n",
    "\n",
    "# Тесты\n",
    "\n",
    "#1 Базовый случай\n",
    "\n",
    "\n",
    "result1 = chess(2, 2, 1, 0)\n",
    "expected1 = np.array([[1, 0], [0, 1]])\n",
    "assert np.array_equal(result1, expected1)\n",
    "\n",
    "#2 3x5 с символами\n",
    "\n",
    "result2 = chess(3, 5, 'X', 'O')\n",
    "expected2 = np.array([\n",
    "    ['X', 'O', 'X', 'O', 'X'],\n",
    "    ['O', 'X', 'O', 'X', 'O'],\n",
    "    ['X', 'O', 'X', 'O', 'X']\n",
    "], dtype=object)\n",
    "assert np.array_equal(result2, expected2)\n",
    "\n",
    "#3 Дробные значения\n",
    "\n",
    "result3 = chess(2, 3, 1.5, -2.7)\n",
    "expected3 = np.array([[1.5, -2.7, 1.5], [-2.7, 1.5, -2.7]])\n",
    "assert np.array_equal(result3, expected3)"
   ],
   "metadata": {
    "id": "_S7_DP5jrX2g",
    "executionInfo": {
     "status": "ok",
     "timestamp": 1757875780114,
     "user_tz": -300,
     "elapsed": 41,
     "user": {
      "displayName": "KIZZPER",
      "userId": "04243679175289993491"
     }
    }
   },
   "execution_count": 18,
   "outputs": []
  },
  {
   "cell_type": "markdown",
   "source": [
    "Задача 6"
   ],
   "metadata": {
    "id": "v2ihM3O_rX5o"
   }
  },
  {
   "cell_type": "code",
   "source": [
    "# Функция\n",
    "\n",
    "def draw_rectangle(a, b, m, n, rectangle_color, background_color):\n",
    "\n",
    "    def normalize_color(color):\n",
    "        return tuple(c / 255.0 if max(color) > 1 else c for c in color)\n",
    "\n",
    "    bg_color = normalize_color(background_color)\n",
    "    rect_color = normalize_color(rectangle_color)\n",
    "\n",
    "    image = np.full((m, n, 3), bg_color, dtype=float)\n",
    "\n",
    "    # Вычисляем позицию прямоугольника\n",
    "    start_x = (n - a) // 2\n",
    "    start_y = (m - b) // 2\n",
    "\n",
    "    # Рисуем прямоугольник\n",
    "    image[start_y:start_y + b, start_x:start_x + a] = rect_color\n",
    "\n",
    "    return image\n",
    "\n",
    "\n",
    "def draw_ellipse(a, b, m, n, ellipse_color, background_color):\n",
    "    def normalize_color(color):\n",
    "        return tuple(c / 255.0 if max(color) > 1 else c for c in color)\n",
    "\n",
    "    bg_color = normalize_color(background_color)\n",
    "    ellipse_color_norm = normalize_color(ellipse_color)\n",
    "\n",
    "    image = np.full((m, n, 3), bg_color, dtype=float)\n",
    "\n",
    "    # Центр изображения\n",
    "    center_x = n // 2\n",
    "    center_y = m // 2\n",
    "\n",
    "    y, x = np.ogrid[:m, :n]\n",
    "\n",
    "    # Уравнение эллипса\n",
    "    ellipse_mask = ((x - center_x) ** 2) / (a ** 2) + ((y - center_y) ** 2) / (b ** 2) <= 1\n",
    "\n",
    "    # Применяем маску эллипса\n",
    "    image[ellipse_mask] = ellipse_color_norm\n",
    "\n",
    "    return image\n",
    "\n",
    "# Тесты\n",
    "\n",
    "#1 Прямоугольник\n",
    "\n",
    "rect1 = draw_rectangle(10, 8, 20, 25, (255, 0, 0), (0, 255, 0))\n",
    "assert rect1.shape == (20, 25, 3)\n",
    "\n",
    "#2 Цвет прямоугольника в центре\n",
    "\n",
    "center_rect_color = rect1[10, 12]\n",
    "expected_rect_color = np.array([1.0, 0.0, 0.0])  # Красный цвет\n",
    "assert np.allclose(center_rect_color, expected_rect_color)\n",
    "\n",
    "#3 Эллипс\n",
    "\n",
    "ellipse1 = draw_ellipse(6, 4, 15, 20, (0, 0, 255), (255, 255, 255))\n",
    "assert ellipse1.shape == (15, 20, 3)\n",
    "\n",
    "#4 Цвет эллипса в центре\n",
    "\n",
    "center_ellipse_color = ellipse1[7, 10]\n",
    "expected_ellipse_color = np.array([0.0, 0.0, 1.0])  # Синий цвет\n",
    "assert np.allclose(center_ellipse_color, expected_ellipse_color)"
   ],
   "metadata": {
    "colab": {
     "base_uri": "https://localhost:8080/",
     "height": 541
    },
    "collapsed": true,
    "id": "VcInWWIQrYE2",
    "executionInfo": {
     "status": "ok",
     "timestamp": 1757780171485,
     "user_tz": -300,
     "elapsed": 909,
     "user": {
      "displayName": "KIZZPER",
      "userId": "04243679175289993491"
     }
    },
    "outputId": "4a2c9f8b-c645-46e7-9caf-0f9145597821",
    "ExecuteTime": {
     "end_time": "2025-09-29T10:09:48.334788Z",
     "start_time": "2025-09-29T10:09:48.329158Z"
    }
   },
   "outputs": [],
   "execution_count": 2
  },
  {
   "cell_type": "markdown",
   "source": [
    "Задача 7"
   ],
   "metadata": {
    "id": "y1FRIUEZrYHt"
   }
  },
  {
   "cell_type": "code",
   "source": [
    "def analyze_time_series(data, window_size=3):\n",
    "\n",
    "    series = np.array(data)\n",
    "    n = int(len(series))\n",
    "\n",
    "    # Основные характеристики\n",
    "    mean_value = float(np.mean(series))\n",
    "    variance = float(np.var(series, ddof=1)) if n > 1 else 0\n",
    "    std_deviation = float(np.std(series, ddof=1)) if n > 1 else 0\n",
    "\n",
    "    # Поиск локальных максимумов и минимумов\n",
    "    local_maxima = []\n",
    "    local_minima = []\n",
    "    local_max_indices = []\n",
    "    local_min_indices = []\n",
    "\n",
    "    # Проверка каждой точкии, кроме первой и последней\n",
    "    for i in range(1, n - 1):\n",
    "        if series[i] > series[i-1] and series[i] > series[i+1]:\n",
    "            local_maxima.append(float(series[i]))\n",
    "            local_max_indices.append(int(i))\n",
    "\n",
    "        if series[i] < series[i-1] and series[i] < series[i+1]:\n",
    "            local_minima.append(float(series[i]))\n",
    "            local_min_indices.append(int(i))\n",
    "\n",
    "    # Скользящее среднее\n",
    "    moving_average = []\n",
    "    half_window = window_size // 2\n",
    "\n",
    "    for i in range(n):\n",
    "        start = max(0, i - half_window)\n",
    "        end = min(n, i + half_window + 1)\n",
    "\n",
    "        if end - start < window_size:\n",
    "            if i < half_window:\n",
    "                end = min(n, start + window_size)\n",
    "            else:\n",
    "                start = max(0, end - window_size)\n",
    "\n",
    "        window_mean = float(np.mean(series[start:end]))\n",
    "        moving_average.append(window_mean)\n",
    "\n",
    "    return {\n",
    "        'original_series': series,\n",
    "        'length': n,\n",
    "        'mean': mean_value,\n",
    "        'variance': variance,\n",
    "        'std_deviation': std_deviation,\n",
    "        'min_value': float(np.min(series)),\n",
    "        'max_value': float(np.max(series)),\n",
    "        'median': float(np.median(series)),\n",
    "        'local_maxima': {\n",
    "            'values': local_maxima,\n",
    "            'indices': local_max_indices\n",
    "        },\n",
    "        'local_minima': {\n",
    "            'values': local_minima,\n",
    "            'indices': local_min_indices\n",
    "        },\n",
    "        'moving_average': np.array(moving_average),\n",
    "        'window_size': window_size\n",
    "    }\n",
    "\n",
    "simple_data = [1, 3, 2, 4, 1, 5, 2, 6, 1, 4, 2, 3, 1, 7, 2]\n",
    "results = analyze_time_series(simple_data, window_size=3)\n",
    "print(results)"
   ],
   "metadata": {
    "colab": {
     "base_uri": "https://localhost:8080/"
    },
    "id": "b59voNTUrbHV",
    "executionInfo": {
     "status": "ok",
     "timestamp": 1757781049543,
     "user_tz": -300,
     "elapsed": 5,
     "user": {
      "displayName": "KIZZPER",
      "userId": "04243679175289993491"
     }
    },
    "outputId": "028ddbd2-b19b-4397-d856-1ebee33abb9c"
   },
   "execution_count": null,
   "outputs": [
    {
     "output_type": "stream",
     "name": "stdout",
     "text": [
      "{'original_series': array([1, 3, 2, 4, 1, 5, 2, 6, 1, 4, 2, 3, 1, 7, 2]), 'length': 15, 'mean': 2.933333333333333, 'variance': 3.638095238095238, 'std_deviation': 1.9073791542572855, 'min_value': 1.0, 'max_value': 7.0, 'median': 2.0, 'local_maxima': {'values': [3.0, 4.0, 5.0, 6.0, 4.0, 3.0, 7.0], 'indices': [1, 3, 5, 7, 9, 11, 13]}, 'local_minima': {'values': [2.0, 1.0, 2.0, 1.0, 2.0, 1.0], 'indices': [2, 4, 6, 8, 10, 12]}, 'moving_average': array([2.        , 2.        , 3.        , 2.33333333, 3.33333333,\n",
      "       2.66666667, 4.33333333, 3.        , 3.66666667, 2.33333333,\n",
      "       3.        , 2.        , 3.66666667, 3.33333333, 3.33333333]), 'window_size': 3}\n"
     ]
    }
   ]
  },
  {
   "cell_type": "markdown",
   "source": [
    "Задача 8"
   ],
   "metadata": {
    "id": "2BN3-lfbrbm8"
   }
  },
  {
   "cell_type": "code",
   "source": [
    "# Функция\n",
    "\n",
    "def one_hot_encode(labels):\n",
    "\n",
    "    labels_array = np.array(labels)\n",
    "\n",
    "    # Приводим к целым числам\n",
    "    labels_int = labels_array.astype(int)\n",
    "\n",
    "    # Определяем количество классов\n",
    "    n_classes = int(np.max(labels_int)) + 1\n",
    "    n_samples = len(labels_int)\n",
    "\n",
    "    # Создаем матрицу one-hot-encoding\n",
    "    one_hot_matrix = np.zeros((n_samples, n_classes), dtype=int)\n",
    "\n",
    "    # Заполняем единицами соответствующие позиции\n",
    "    for i, label in enumerate(labels_int):\n",
    "        one_hot_matrix[i, label] = 1\n",
    "\n",
    "    return one_hot_matrix\n",
    "\n",
    "\n",
    "result = one_hot_encode([1, 1, 0, 2, 1, 0])\n",
    "print(result)"
   ],
   "metadata": {
    "colab": {
     "base_uri": "https://localhost:8080/"
    },
    "id": "hjzf3ifIrbq8",
    "executionInfo": {
     "status": "ok",
     "timestamp": 1757781680707,
     "user_tz": -300,
     "elapsed": 13,
     "user": {
      "displayName": "KIZZPER",
      "userId": "04243679175289993491"
     }
    },
    "outputId": "6e6bc092-0661-486a-8583-71376d72e9f4"
   },
   "execution_count": null,
   "outputs": [
    {
     "output_type": "stream",
     "name": "stdout",
     "text": [
      "[[0 1 0]\n",
      " [0 1 0]\n",
      " [1 0 0]\n",
      " [0 0 1]\n",
      " [0 1 0]\n",
      " [1 0 0]]\n"
     ]
    }
   ]
  }
 ]
}
