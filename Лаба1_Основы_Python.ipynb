{
 "cells": [
  {
   "cell_type": "markdown",
   "metadata": {
    "id": "M81G7gx9mEeT"
   },
   "source": [
    "**Основы Python**"
   ]
  },
  {
   "cell_type": "markdown",
   "metadata": {
    "id": "g-fgE8X-mZiP"
   },
   "source": [
    "Задание 6"
   ]
  },
  {
   "cell_type": "code",
   "execution_count": 3,
   "metadata": {
    "executionInfo": {
     "elapsed": 49,
     "status": "ok",
     "timestamp": 1757759494960,
     "user": {
      "displayName": "KIZZPER",
      "userId": "04243679175289993491"
     },
     "user_tz": -300
    },
    "id": "Nv0edQP1mIiS"
   },
   "outputs": [],
   "source": [
    "# Функция\n",
    "def prime_factorization(n):\n",
    "\n",
    "    factors = {}\n",
    "    divisor = 2\n",
    "\n",
    "    while divisor * divisor <= n:\n",
    "        while n % divisor == 0:\n",
    "            factors[divisor] = factors.get(divisor, 0) + 1\n",
    "            n //= divisor\n",
    "        divisor += 1\n",
    "\n",
    "    if n > 1:\n",
    "        factors[n] = factors.get(n, 0) + 1\n",
    "\n",
    "    result = \"\"\n",
    "    for prime in sorted(factors.keys()):\n",
    "        power = factors[prime]\n",
    "        if power == 1:\n",
    "            result += f\"({prime})\"\n",
    "        else:\n",
    "            result += f\"({prime}**{power})\"\n",
    "\n",
    "    return result\n",
    "\n",
    "# Тесты\n",
    "assert prime_factorization(86240) == \"(2**5)(5)(7**2)(11)\"\n",
    "assert prime_factorization(86240) == \"(2**5)(5)(7**2)(11)\"\n",
    "assert prime_factorization(210) == \"(2)(3)(5)(7)\""
   ]
  },
  {
   "cell_type": "markdown",
   "metadata": {
    "id": "YgRGDExImdWd"
   },
   "source": [
    "Задание 7\n"
   ]
  },
  {
   "cell_type": "code",
   "execution_count": 18,
   "metadata": {
    "collapsed": true,
    "executionInfo": {
     "elapsed": 2,
     "status": "ok",
     "timestamp": 1757759819108,
     "user": {
      "displayName": "KIZZPER",
      "userId": "04243679175289993491"
     },
     "user_tz": -300
    },
    "id": "i-Nw7oOCmdj-",
    "jupyter": {
     "outputs_hidden": true
    }
   },
   "outputs": [],
   "source": [
    "# Функция\n",
    "def pyramid(number):\n",
    "    if number <= 0:\n",
    "        return \"It is impossible\"\n",
    "\n",
    "    count = 1\n",
    "    sum_squares = 0\n",
    "\n",
    "    while sum_squares < number:\n",
    "        sum_squares += count * count\n",
    "        if sum_squares == number:\n",
    "            return count\n",
    "        count += 1\n",
    "\n",
    "    return \"It is impossible\"\n",
    "\n",
    "# Тесты\n",
    "assert pyramid(7) == \"It is impossible\"\n",
    "assert pyramid(-7) == \"It is impossible\"\n",
    "assert pyramid(14) == 3\n",
    "\n",
    "\n",
    "\n"
   ]
  },
  {
   "cell_type": "markdown",
   "metadata": {
    "id": "QGNosIDpmdsb"
   },
   "source": [
    "Задание 8\n"
   ]
  },
  {
   "cell_type": "code",
   "execution_count": 19,
   "metadata": {
    "executionInfo": {
     "elapsed": 1,
     "status": "ok",
     "timestamp": 1757759854246,
     "user": {
      "displayName": "KIZZPER",
      "userId": "04243679175289993491"
     },
     "user_tz": -300
    },
    "id": "zGSflBHPmdwH"
   },
   "outputs": [],
   "source": [
    "# Функция\n",
    "def is_balanced(n):\n",
    "    if n <= 0:\n",
    "        return False\n",
    "\n",
    "    digits = str(n)\n",
    "    length = len(digits)\n",
    "\n",
    "    if length == 1:\n",
    "        return True\n",
    "\n",
    "    if length % 2 == 1:\n",
    "        middle = length // 2\n",
    "        left_sum = sum(int(d) for d in digits[:middle])\n",
    "        right_sum = sum(int(d) for d in digits[middle + 1:])\n",
    "    else:\n",
    "        middle = length // 2\n",
    "        left_sum = sum(int(d) for d in digits[:middle - 1])\n",
    "        right_sum = sum(int(d) for d in digits[middle + 1:])\n",
    "\n",
    "    return left_sum == right_sum\n",
    "\n",
    "# Тесты\n",
    "assert is_balanced(12321) == True\n",
    "assert is_balanced(1234) == False\n",
    "assert is_balanced(1331) == True"
   ]
  }
 ],
 "metadata": {
  "colab": {
   "authorship_tag": "ABX9TyMWj2h5sJ7UkoymYfHgSYW5",
   "provenance": []
  },
  "kernelspec": {
   "display_name": "Python 3 (ipykernel)",
   "language": "python",
   "name": "python3"
  },
  "language_info": {
   "codemirror_mode": {
    "name": "ipython",
    "version": 3
   },
   "file_extension": ".py",
   "mimetype": "text/x-python",
   "name": "python",
   "nbconvert_exporter": "python",
   "pygments_lexer": "ipython3",
   "version": "3.13.5"
  }
 },
 "nbformat": 4,
 "nbformat_minor": 4
}
